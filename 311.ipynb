{
 "cells": [
  {
   "cell_type": "code",
   "execution_count": 2,
   "metadata": {},
   "outputs": [],
   "source": [
    "import matplotlib.pyplot as plt\n",
    "import numpy as np"
   ]
  },
  {
   "cell_type": "code",
   "execution_count": null,
   "metadata": {},
   "outputs": [
    {
     "name": "stdout",
     "output_type": "stream",
     "text": [
      "brought in data\n"
     ]
    }
   ],
   "source": [
    "# make sure to install these packages before running:\n",
    "# pip install pandas\n",
    "# pip install sodapy\n",
    "import time\n",
    "import pandas as pd\n",
    "from sodapy import Socrata\n",
    "results_dic = {}\n",
    "list_of_depts = ['HPD', 'NYPD', 'DSNY', 'DOT', 'DOB', 'DPR', 'DHS' 'DFTA', 'DEP']\n",
    "for key in list_of_depts:\n",
    "# Unauthenticated client only works with public data sets. Note 'None'\n",
    "# # in place of application token, and no username or password:\n",
    "#     client = Socrata(\"data.cityofnewyork.us\", 'fCzaXZ3MLFDro2nWBiJ8CBYQh')\n",
    "\n",
    "# # Example authenticated client (needed for non-public datasets):\n",
    "# # client = Socrata(data.cityofnewyork.us,\n",
    "# #                  MyAppToken,\n",
    "# #                  userame=\"user@example.com\",\n",
    "# #                  password=\"AFakePassword\")\n",
    "\n",
    "# # First 2000 results, returned as JSON from API / converted to Python list of\n",
    "# # dictionaries by sodapy.\n",
    "#     results = client.get('fhrw-4uyv', where= f\"Agency = '{key}'\", limit = 100_000)\n",
    "#     #print(\"Total number of non-null results: {}\".format(meta_amount['cachedContents']['non_null']))\n",
    "#     print(\"Number of results downloaded: {}\".format(len(results)))\n",
    "#     results[:3]\n",
    "    \n",
    "# Convert to pandas DataFrame\n",
    "    results_dic[key] = pd.read_csv(f'./{key}.csv',dtype = object)\n",
    "    print('brought in data')\n",
    "    # Create a Dictionary to number each borough\n",
    "    borough_dict = {'MANHATTAN': '1', 'BRONX' : '2', 'BROOKLYN': '3', 'QUEENS' : '4', 'STATEN' : '5'}\n",
    "    # Map each borough to the desired number\n",
    "    results_dic[key]['community_board_full'] = results_dic[key]['borough'].map(borough_dict)\n",
    "        \n",
    "    # Create a Community Board Number column\n",
    "    results_dic[key]['CB_num']= [i.split(' ')[0] for i in results_dic[key].community_board]\n",
    "    \n",
    "    # Make all cells that are \"Unspecified\" into Null values\n",
    "    for i in results_dic[key].columns:\n",
    "        results_dic[key][i] = results_dic[key][i].map(lambda x: np.nan if x == 'Unspecified' else x)\n",
    "        \n",
    "    # Make all Community Board NUmber cells that are \"0\" into Null values\n",
    "    results_dic[key].CB_num = results_dic[key].CB_num.map(lambda x: np.nan if x == '0' else x)    \n",
    "    results_dic[key].dropna(subset = ['CB_num'],inplace = True)\n",
    "    results_dic[key].dropna(subset = ['borough'],inplace = True)\n",
    "\n",
    "    # Create a column with the borough number and the community board number \n",
    "    # Example: Community board \"Brooklyn 11\" is now Community Board \"311\"\n",
    "    results_dic[key]['community_board_full'] = results_dic[key]['community_board_full'] + results_dic[key]['CB_num']\n",
    "\n",
    "\n",
    "    # Turn all of the date columns into Datetime\n",
    "    results_dic[key]['created_date'] = pd.to_datetime(results_dic[key]['created_date'])\n",
    "    results_dic[key]['closed_date'] = pd.to_datetime(results_dic[key]['created_date'])\n",
    "        \n",
    "    # Create New columns for Month, Year, and a 3rd column with month and year together\n",
    "    results_dic[key]['Year'] = results_dic[key]['created_date'].dt.year\n",
    "    results_dic[key]['Month'] = results_dic[key]['created_date'].dt.month\n",
    "    results_dic[key]['year-month'] = str(results_dic[key]['Year'])+'-'+str(results_dic[key]['Month'])\n",
    "\n",
    "    # Create a column to see how long each case took to close\n",
    "    results_dic[key]['time_to_close'] = results_dic[key].closed_date - results_dic[key].created_date\n",
    "\n",
    "    # Create a column to see how many minutes the case took to close\n",
    "    results_dic[key]['total_minutes'] = results_dic[key].time_to_close.map(lambda x: x.total_seconds()/60)\n",
    "    \n",
    "    \n",
    "    results_dic[key] = results_dic[key].rename(columns={'complaint_type': key})\n",
    "    # Create a new dataframe with dummy variables for each complaint type\n",
    "#     exec(f\"{key}_dummies = pd.get_dummies(results_dic[key].complaint_type)\")\n",
    "    \n",
    "\n",
    "    df = results_dic[key].groupby(['Month','Year','community_board_full']).count().reset_index()[['Month','Year','community_board_full',key]]\n",
    "    df.to_csv(f'{key}_to_noah.csv')\n",
    "    print(f'cleaned {key} df')"
   ]
  },
  {
   "cell_type": "code",
   "execution_count": null,
   "metadata": {},
   "outputs": [],
   "source": [
    "for dept in list_of_depts[1:]:\n",
    "    df = pd.merge(df,results_dic[dept].groupby(['Month','Year','community_board_full']).count().reset_index()[['Month','Year','community_board_full',dept]],how = 'right',on=['Month','Year','community_board_full'])\n",
    "    print(f'Merged {dept}')"
   ]
  },
  {
   "cell_type": "code",
   "execution_count": null,
   "metadata": {},
   "outputs": [],
   "source": []
  }
 ],
 "metadata": {
  "kernelspec": {
   "display_name": "Python 3",
   "language": "python",
   "name": "python3"
  },
  "language_info": {
   "codemirror_mode": {
    "name": "ipython",
    "version": 3
   },
   "file_extension": ".py",
   "mimetype": "text/x-python",
   "name": "python",
   "nbconvert_exporter": "python",
   "pygments_lexer": "ipython3",
   "version": "3.6.8"
  }
 },
 "nbformat": 4,
 "nbformat_minor": 2
}
